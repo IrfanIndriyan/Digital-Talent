{
 "cells": [
  {
   "cell_type": "markdown",
   "metadata": {},
   "source": [
    "# Tugas Analisis Data"
   ]
  },
  {
   "cell_type": "code",
   "execution_count": 6,
   "metadata": {},
   "outputs": [
    {
     "name": "stdout",
     "output_type": "stream",
     "text": [
      "    tahun                            indikator_wisata          satuan  nilai\n",
      "0    2006                               Jumlah Wisman  Juta Kunjungan   1.22\n",
      "1    2006      Tingkat Penghunian Kamar Hotel Bintang          Persen  50.60\n",
      "2    2006  Tingkat Penghunian Kamar Hotel Non-Bintang          Persen  57.34\n",
      "3    2007                               Jumlah Wisman  Juta Kunjungan   1.22\n",
      "4    2007      Tingkat Penghunian Kamar Hotel Bintang          Persen  50.45\n",
      "5    2007  Tingkat Penghunian Kamar Hotel Non-Bintang          Persen  59.32\n",
      "6    2008                               Jumlah Wisman  Juta Kunjungan   1.53\n",
      "7    2008      Tingkat Penghunian Kamar Hotel Bintang          Persen  49.40\n",
      "8    2008  Tingkat Penghunian Kamar Hotel Non-Bintang          Persen  54.49\n",
      "9    2009                               Jumlah Wisman  Juta Kunjungan   1.45\n",
      "10   2009      Tingkat Penghunian Kamar Hotel Bintang          Persen  49.91\n",
      "11   2009  Tingkat Penghunian Kamar Hotel Non-Bintang          Persen  55.93\n",
      "12   2010                               Jumlah Wisman  Juta Kunjungan   1.89\n",
      "13   2010      Tingkat Penghunian Kamar Hotel Bintang          Persen  51.73\n",
      "14   2010  Tingkat Penghunian Kamar Hotel Non-Bintang          Persen  60.78\n",
      "15   2011                               Jumlah Wisman  Juta Kunjungan   2.00\n",
      "16   2011      Tingkat Penghunian Kamar Hotel Bintang          Persen  53.06\n",
      "17   2011  Tingkat Penghunian Kamar Hotel Non-Bintang          Persen  61.14\n",
      "18   2012                               Jumlah Wisman  Juta Kunjungan   2.13\n",
      "19   2012      Tingkat Penghunian Kamar Hotel Bintang          Persen  53.45\n",
      "20   2012  Tingkat Penghunian Kamar Hotel Non-Bintang          Persen  59.60\n"
     ]
    }
   ],
   "source": [
    "import pandas as pd\n",
    "data_wisata = pd.read_csv('processed-statistik-wisata-dki-jakarta-2006-2012.csv', delimiter = ',', encoding = \"ISO-8859-1\")\n",
    "print(data_wisata)"
   ]
  },
  {
   "cell_type": "markdown",
   "metadata": {},
   "source": [
    "## 1. Deskripsi Data"
   ]
  },
  {
   "cell_type": "code",
   "execution_count": 9,
   "metadata": {},
   "outputs": [
    {
     "data": {
      "text/html": [
       "<div>\n",
       "<style scoped>\n",
       "    .dataframe tbody tr th:only-of-type {\n",
       "        vertical-align: middle;\n",
       "    }\n",
       "\n",
       "    .dataframe tbody tr th {\n",
       "        vertical-align: top;\n",
       "    }\n",
       "\n",
       "    .dataframe thead th {\n",
       "        text-align: right;\n",
       "    }\n",
       "</style>\n",
       "<table border=\"1\" class=\"dataframe\">\n",
       "  <thead>\n",
       "    <tr style=\"text-align: right;\">\n",
       "      <th></th>\n",
       "      <th>tahun</th>\n",
       "      <th>indikator_wisata</th>\n",
       "      <th>satuan</th>\n",
       "      <th>nilai</th>\n",
       "    </tr>\n",
       "  </thead>\n",
       "  <tbody>\n",
       "    <tr>\n",
       "      <th>0</th>\n",
       "      <td>2006</td>\n",
       "      <td>Jumlah Wisman</td>\n",
       "      <td>Juta Kunjungan</td>\n",
       "      <td>1.22</td>\n",
       "    </tr>\n",
       "    <tr>\n",
       "      <th>1</th>\n",
       "      <td>2006</td>\n",
       "      <td>Tingkat Penghunian Kamar Hotel Bintang</td>\n",
       "      <td>Persen</td>\n",
       "      <td>50.60</td>\n",
       "    </tr>\n",
       "    <tr>\n",
       "      <th>2</th>\n",
       "      <td>2006</td>\n",
       "      <td>Tingkat Penghunian Kamar Hotel Non-Bintang</td>\n",
       "      <td>Persen</td>\n",
       "      <td>57.34</td>\n",
       "    </tr>\n",
       "    <tr>\n",
       "      <th>3</th>\n",
       "      <td>2007</td>\n",
       "      <td>Jumlah Wisman</td>\n",
       "      <td>Juta Kunjungan</td>\n",
       "      <td>1.22</td>\n",
       "    </tr>\n",
       "    <tr>\n",
       "      <th>4</th>\n",
       "      <td>2007</td>\n",
       "      <td>Tingkat Penghunian Kamar Hotel Bintang</td>\n",
       "      <td>Persen</td>\n",
       "      <td>50.45</td>\n",
       "    </tr>\n",
       "  </tbody>\n",
       "</table>\n",
       "</div>"
      ],
      "text/plain": [
       "   tahun                            indikator_wisata          satuan  nilai\n",
       "0   2006                               Jumlah Wisman  Juta Kunjungan   1.22\n",
       "1   2006      Tingkat Penghunian Kamar Hotel Bintang          Persen  50.60\n",
       "2   2006  Tingkat Penghunian Kamar Hotel Non-Bintang          Persen  57.34\n",
       "3   2007                               Jumlah Wisman  Juta Kunjungan   1.22\n",
       "4   2007      Tingkat Penghunian Kamar Hotel Bintang          Persen  50.45"
      ]
     },
     "execution_count": 9,
     "metadata": {},
     "output_type": "execute_result"
    }
   ],
   "source": [
    "data_wisata.head()"
   ]
  },
  {
   "cell_type": "code",
   "execution_count": 10,
   "metadata": {},
   "outputs": [
    {
     "data": {
      "text/html": [
       "<div>\n",
       "<style scoped>\n",
       "    .dataframe tbody tr th:only-of-type {\n",
       "        vertical-align: middle;\n",
       "    }\n",
       "\n",
       "    .dataframe tbody tr th {\n",
       "        vertical-align: top;\n",
       "    }\n",
       "\n",
       "    .dataframe thead th {\n",
       "        text-align: right;\n",
       "    }\n",
       "</style>\n",
       "<table border=\"1\" class=\"dataframe\">\n",
       "  <thead>\n",
       "    <tr style=\"text-align: right;\">\n",
       "      <th></th>\n",
       "      <th>tahun</th>\n",
       "      <th>indikator_wisata</th>\n",
       "      <th>satuan</th>\n",
       "      <th>nilai</th>\n",
       "    </tr>\n",
       "  </thead>\n",
       "  <tbody>\n",
       "    <tr>\n",
       "      <th>16</th>\n",
       "      <td>2011</td>\n",
       "      <td>Tingkat Penghunian Kamar Hotel Bintang</td>\n",
       "      <td>Persen</td>\n",
       "      <td>53.06</td>\n",
       "    </tr>\n",
       "    <tr>\n",
       "      <th>17</th>\n",
       "      <td>2011</td>\n",
       "      <td>Tingkat Penghunian Kamar Hotel Non-Bintang</td>\n",
       "      <td>Persen</td>\n",
       "      <td>61.14</td>\n",
       "    </tr>\n",
       "    <tr>\n",
       "      <th>18</th>\n",
       "      <td>2012</td>\n",
       "      <td>Jumlah Wisman</td>\n",
       "      <td>Juta Kunjungan</td>\n",
       "      <td>2.13</td>\n",
       "    </tr>\n",
       "    <tr>\n",
       "      <th>19</th>\n",
       "      <td>2012</td>\n",
       "      <td>Tingkat Penghunian Kamar Hotel Bintang</td>\n",
       "      <td>Persen</td>\n",
       "      <td>53.45</td>\n",
       "    </tr>\n",
       "    <tr>\n",
       "      <th>20</th>\n",
       "      <td>2012</td>\n",
       "      <td>Tingkat Penghunian Kamar Hotel Non-Bintang</td>\n",
       "      <td>Persen</td>\n",
       "      <td>59.60</td>\n",
       "    </tr>\n",
       "  </tbody>\n",
       "</table>\n",
       "</div>"
      ],
      "text/plain": [
       "    tahun                            indikator_wisata          satuan  nilai\n",
       "16   2011      Tingkat Penghunian Kamar Hotel Bintang          Persen  53.06\n",
       "17   2011  Tingkat Penghunian Kamar Hotel Non-Bintang          Persen  61.14\n",
       "18   2012                               Jumlah Wisman  Juta Kunjungan   2.13\n",
       "19   2012      Tingkat Penghunian Kamar Hotel Bintang          Persen  53.45\n",
       "20   2012  Tingkat Penghunian Kamar Hotel Non-Bintang          Persen  59.60"
      ]
     },
     "execution_count": 10,
     "metadata": {},
     "output_type": "execute_result"
    }
   ],
   "source": [
    "data_wisata.tail()"
   ]
  },
  {
   "cell_type": "code",
   "execution_count": 11,
   "metadata": {},
   "outputs": [
    {
     "data": {
      "text/html": [
       "<div>\n",
       "<style scoped>\n",
       "    .dataframe tbody tr th:only-of-type {\n",
       "        vertical-align: middle;\n",
       "    }\n",
       "\n",
       "    .dataframe tbody tr th {\n",
       "        vertical-align: top;\n",
       "    }\n",
       "\n",
       "    .dataframe thead th {\n",
       "        text-align: right;\n",
       "    }\n",
       "</style>\n",
       "<table border=\"1\" class=\"dataframe\">\n",
       "  <thead>\n",
       "    <tr style=\"text-align: right;\">\n",
       "      <th></th>\n",
       "      <th>tahun</th>\n",
       "      <th>indikator_wisata</th>\n",
       "      <th>satuan</th>\n",
       "      <th>nilai</th>\n",
       "    </tr>\n",
       "  </thead>\n",
       "  <tbody>\n",
       "    <tr>\n",
       "      <th>0</th>\n",
       "      <td>2006</td>\n",
       "      <td>Jumlah Wisman</td>\n",
       "      <td>Juta Kunjungan</td>\n",
       "      <td>1.22</td>\n",
       "    </tr>\n",
       "    <tr>\n",
       "      <th>15</th>\n",
       "      <td>2011</td>\n",
       "      <td>Jumlah Wisman</td>\n",
       "      <td>Juta Kunjungan</td>\n",
       "      <td>2.00</td>\n",
       "    </tr>\n",
       "    <tr>\n",
       "      <th>7</th>\n",
       "      <td>2008</td>\n",
       "      <td>Tingkat Penghunian Kamar Hotel Bintang</td>\n",
       "      <td>Persen</td>\n",
       "      <td>49.40</td>\n",
       "    </tr>\n",
       "  </tbody>\n",
       "</table>\n",
       "</div>"
      ],
      "text/plain": [
       "    tahun                        indikator_wisata          satuan  nilai\n",
       "0    2006                           Jumlah Wisman  Juta Kunjungan   1.22\n",
       "15   2011                           Jumlah Wisman  Juta Kunjungan   2.00\n",
       "7    2008  Tingkat Penghunian Kamar Hotel Bintang          Persen  49.40"
      ]
     },
     "execution_count": 11,
     "metadata": {},
     "output_type": "execute_result"
    }
   ],
   "source": [
    "data_wisata.sample(3)"
   ]
  },
  {
   "cell_type": "code",
   "execution_count": 13,
   "metadata": {},
   "outputs": [
    {
     "data": {
      "text/html": [
       "<div>\n",
       "<style scoped>\n",
       "    .dataframe tbody tr th:only-of-type {\n",
       "        vertical-align: middle;\n",
       "    }\n",
       "\n",
       "    .dataframe tbody tr th {\n",
       "        vertical-align: top;\n",
       "    }\n",
       "\n",
       "    .dataframe thead th {\n",
       "        text-align: right;\n",
       "    }\n",
       "</style>\n",
       "<table border=\"1\" class=\"dataframe\">\n",
       "  <thead>\n",
       "    <tr style=\"text-align: right;\">\n",
       "      <th></th>\n",
       "      <th>tahun</th>\n",
       "      <th>indikator_wisata</th>\n",
       "      <th>satuan</th>\n",
       "      <th>nilai</th>\n",
       "    </tr>\n",
       "  </thead>\n",
       "  <tbody>\n",
       "    <tr>\n",
       "      <th>0</th>\n",
       "      <td>2006</td>\n",
       "      <td>Jumlah Wisman</td>\n",
       "      <td>Juta Kunjungan</td>\n",
       "      <td>1.22</td>\n",
       "    </tr>\n",
       "    <tr>\n",
       "      <th>3</th>\n",
       "      <td>2007</td>\n",
       "      <td>Jumlah Wisman</td>\n",
       "      <td>Juta Kunjungan</td>\n",
       "      <td>1.22</td>\n",
       "    </tr>\n",
       "    <tr>\n",
       "      <th>6</th>\n",
       "      <td>2008</td>\n",
       "      <td>Jumlah Wisman</td>\n",
       "      <td>Juta Kunjungan</td>\n",
       "      <td>1.53</td>\n",
       "    </tr>\n",
       "    <tr>\n",
       "      <th>9</th>\n",
       "      <td>2009</td>\n",
       "      <td>Jumlah Wisman</td>\n",
       "      <td>Juta Kunjungan</td>\n",
       "      <td>1.45</td>\n",
       "    </tr>\n",
       "    <tr>\n",
       "      <th>12</th>\n",
       "      <td>2010</td>\n",
       "      <td>Jumlah Wisman</td>\n",
       "      <td>Juta Kunjungan</td>\n",
       "      <td>1.89</td>\n",
       "    </tr>\n",
       "    <tr>\n",
       "      <th>15</th>\n",
       "      <td>2011</td>\n",
       "      <td>Jumlah Wisman</td>\n",
       "      <td>Juta Kunjungan</td>\n",
       "      <td>2.00</td>\n",
       "    </tr>\n",
       "    <tr>\n",
       "      <th>18</th>\n",
       "      <td>2012</td>\n",
       "      <td>Jumlah Wisman</td>\n",
       "      <td>Juta Kunjungan</td>\n",
       "      <td>2.13</td>\n",
       "    </tr>\n",
       "  </tbody>\n",
       "</table>\n",
       "</div>"
      ],
      "text/plain": [
       "    tahun indikator_wisata          satuan  nilai\n",
       "0    2006    Jumlah Wisman  Juta Kunjungan   1.22\n",
       "3    2007    Jumlah Wisman  Juta Kunjungan   1.22\n",
       "6    2008    Jumlah Wisman  Juta Kunjungan   1.53\n",
       "9    2009    Jumlah Wisman  Juta Kunjungan   1.45\n",
       "12   2010    Jumlah Wisman  Juta Kunjungan   1.89\n",
       "15   2011    Jumlah Wisman  Juta Kunjungan   2.00\n",
       "18   2012    Jumlah Wisman  Juta Kunjungan   2.13"
      ]
     },
     "execution_count": 13,
     "metadata": {},
     "output_type": "execute_result"
    }
   ],
   "source": [
    "#Jumlah wisatawan per tahun per juta\n",
    "data_wisata[data_wisata['satuan'] == \"Juta Kunjungan\"]"
   ]
  },
  {
   "cell_type": "code",
   "execution_count": 14,
   "metadata": {},
   "outputs": [
    {
     "data": {
      "text/html": [
       "<div>\n",
       "<style scoped>\n",
       "    .dataframe tbody tr th:only-of-type {\n",
       "        vertical-align: middle;\n",
       "    }\n",
       "\n",
       "    .dataframe tbody tr th {\n",
       "        vertical-align: top;\n",
       "    }\n",
       "\n",
       "    .dataframe thead th {\n",
       "        text-align: right;\n",
       "    }\n",
       "</style>\n",
       "<table border=\"1\" class=\"dataframe\">\n",
       "  <thead>\n",
       "    <tr style=\"text-align: right;\">\n",
       "      <th></th>\n",
       "      <th>tahun</th>\n",
       "      <th>indikator_wisata</th>\n",
       "      <th>satuan</th>\n",
       "      <th>nilai</th>\n",
       "    </tr>\n",
       "  </thead>\n",
       "  <tbody>\n",
       "    <tr>\n",
       "      <th>1</th>\n",
       "      <td>2006</td>\n",
       "      <td>Tingkat Penghunian Kamar Hotel Bintang</td>\n",
       "      <td>Persen</td>\n",
       "      <td>50.60</td>\n",
       "    </tr>\n",
       "    <tr>\n",
       "      <th>4</th>\n",
       "      <td>2007</td>\n",
       "      <td>Tingkat Penghunian Kamar Hotel Bintang</td>\n",
       "      <td>Persen</td>\n",
       "      <td>50.45</td>\n",
       "    </tr>\n",
       "    <tr>\n",
       "      <th>7</th>\n",
       "      <td>2008</td>\n",
       "      <td>Tingkat Penghunian Kamar Hotel Bintang</td>\n",
       "      <td>Persen</td>\n",
       "      <td>49.40</td>\n",
       "    </tr>\n",
       "    <tr>\n",
       "      <th>10</th>\n",
       "      <td>2009</td>\n",
       "      <td>Tingkat Penghunian Kamar Hotel Bintang</td>\n",
       "      <td>Persen</td>\n",
       "      <td>49.91</td>\n",
       "    </tr>\n",
       "    <tr>\n",
       "      <th>13</th>\n",
       "      <td>2010</td>\n",
       "      <td>Tingkat Penghunian Kamar Hotel Bintang</td>\n",
       "      <td>Persen</td>\n",
       "      <td>51.73</td>\n",
       "    </tr>\n",
       "    <tr>\n",
       "      <th>16</th>\n",
       "      <td>2011</td>\n",
       "      <td>Tingkat Penghunian Kamar Hotel Bintang</td>\n",
       "      <td>Persen</td>\n",
       "      <td>53.06</td>\n",
       "    </tr>\n",
       "    <tr>\n",
       "      <th>19</th>\n",
       "      <td>2012</td>\n",
       "      <td>Tingkat Penghunian Kamar Hotel Bintang</td>\n",
       "      <td>Persen</td>\n",
       "      <td>53.45</td>\n",
       "    </tr>\n",
       "  </tbody>\n",
       "</table>\n",
       "</div>"
      ],
      "text/plain": [
       "    tahun                        indikator_wisata  satuan  nilai\n",
       "1    2006  Tingkat Penghunian Kamar Hotel Bintang  Persen  50.60\n",
       "4    2007  Tingkat Penghunian Kamar Hotel Bintang  Persen  50.45\n",
       "7    2008  Tingkat Penghunian Kamar Hotel Bintang  Persen  49.40\n",
       "10   2009  Tingkat Penghunian Kamar Hotel Bintang  Persen  49.91\n",
       "13   2010  Tingkat Penghunian Kamar Hotel Bintang  Persen  51.73\n",
       "16   2011  Tingkat Penghunian Kamar Hotel Bintang  Persen  53.06\n",
       "19   2012  Tingkat Penghunian Kamar Hotel Bintang  Persen  53.45"
      ]
     },
     "execution_count": 14,
     "metadata": {},
     "output_type": "execute_result"
    }
   ],
   "source": [
    "#Jumlah penghuni kamar hotel berbintang per tahun dalam persen\n",
    "data_wisata[data_wisata['indikator_wisata'] == \"Tingkat Penghunian Kamar Hotel Bintang\"]"
   ]
  },
  {
   "cell_type": "code",
   "execution_count": 16,
   "metadata": {},
   "outputs": [
    {
     "data": {
      "text/html": [
       "<div>\n",
       "<style scoped>\n",
       "    .dataframe tbody tr th:only-of-type {\n",
       "        vertical-align: middle;\n",
       "    }\n",
       "\n",
       "    .dataframe tbody tr th {\n",
       "        vertical-align: top;\n",
       "    }\n",
       "\n",
       "    .dataframe thead th {\n",
       "        text-align: right;\n",
       "    }\n",
       "</style>\n",
       "<table border=\"1\" class=\"dataframe\">\n",
       "  <thead>\n",
       "    <tr style=\"text-align: right;\">\n",
       "      <th></th>\n",
       "      <th>tahun</th>\n",
       "      <th>indikator_wisata</th>\n",
       "      <th>satuan</th>\n",
       "      <th>nilai</th>\n",
       "    </tr>\n",
       "  </thead>\n",
       "  <tbody>\n",
       "    <tr>\n",
       "      <th>2</th>\n",
       "      <td>2006</td>\n",
       "      <td>Tingkat Penghunian Kamar Hotel Non-Bintang</td>\n",
       "      <td>Persen</td>\n",
       "      <td>57.34</td>\n",
       "    </tr>\n",
       "    <tr>\n",
       "      <th>5</th>\n",
       "      <td>2007</td>\n",
       "      <td>Tingkat Penghunian Kamar Hotel Non-Bintang</td>\n",
       "      <td>Persen</td>\n",
       "      <td>59.32</td>\n",
       "    </tr>\n",
       "    <tr>\n",
       "      <th>8</th>\n",
       "      <td>2008</td>\n",
       "      <td>Tingkat Penghunian Kamar Hotel Non-Bintang</td>\n",
       "      <td>Persen</td>\n",
       "      <td>54.49</td>\n",
       "    </tr>\n",
       "    <tr>\n",
       "      <th>11</th>\n",
       "      <td>2009</td>\n",
       "      <td>Tingkat Penghunian Kamar Hotel Non-Bintang</td>\n",
       "      <td>Persen</td>\n",
       "      <td>55.93</td>\n",
       "    </tr>\n",
       "    <tr>\n",
       "      <th>14</th>\n",
       "      <td>2010</td>\n",
       "      <td>Tingkat Penghunian Kamar Hotel Non-Bintang</td>\n",
       "      <td>Persen</td>\n",
       "      <td>60.78</td>\n",
       "    </tr>\n",
       "    <tr>\n",
       "      <th>17</th>\n",
       "      <td>2011</td>\n",
       "      <td>Tingkat Penghunian Kamar Hotel Non-Bintang</td>\n",
       "      <td>Persen</td>\n",
       "      <td>61.14</td>\n",
       "    </tr>\n",
       "    <tr>\n",
       "      <th>20</th>\n",
       "      <td>2012</td>\n",
       "      <td>Tingkat Penghunian Kamar Hotel Non-Bintang</td>\n",
       "      <td>Persen</td>\n",
       "      <td>59.60</td>\n",
       "    </tr>\n",
       "  </tbody>\n",
       "</table>\n",
       "</div>"
      ],
      "text/plain": [
       "    tahun                            indikator_wisata  satuan  nilai\n",
       "2    2006  Tingkat Penghunian Kamar Hotel Non-Bintang  Persen  57.34\n",
       "5    2007  Tingkat Penghunian Kamar Hotel Non-Bintang  Persen  59.32\n",
       "8    2008  Tingkat Penghunian Kamar Hotel Non-Bintang  Persen  54.49\n",
       "11   2009  Tingkat Penghunian Kamar Hotel Non-Bintang  Persen  55.93\n",
       "14   2010  Tingkat Penghunian Kamar Hotel Non-Bintang  Persen  60.78\n",
       "17   2011  Tingkat Penghunian Kamar Hotel Non-Bintang  Persen  61.14\n",
       "20   2012  Tingkat Penghunian Kamar Hotel Non-Bintang  Persen  59.60"
      ]
     },
     "execution_count": 16,
     "metadata": {},
     "output_type": "execute_result"
    }
   ],
   "source": [
    "#Jumlah penghuni kamar hotel NON bintang per tahun dalam persen\n",
    "data_wisata[data_wisata[\"indikator_wisata\"] == \"Tingkat Penghunian Kamar Hotel Non-Bintang\"]"
   ]
  },
  {
   "cell_type": "markdown",
   "metadata": {},
   "source": [
    "## 2. Statistik Tentang Data"
   ]
  },
  {
   "cell_type": "code",
   "execution_count": 84,
   "metadata": {},
   "outputs": [
    {
     "name": "stdout",
     "output_type": "stream",
     "text": [
      "0     1.22\n",
      "3     1.22\n",
      "6     1.53\n",
      "9     1.45\n",
      "12    1.89\n",
      "15    2.00\n",
      "18    2.13\n",
      "Name: nilai, dtype: float64\n"
     ]
    }
   ],
   "source": [
    "import statistics as sta\n",
    "import math\n",
    "print(kunjungan['nilai'])"
   ]
  },
  {
   "cell_type": "markdown",
   "metadata": {},
   "source": [
    "a. Wisatawan tahunan"
   ]
  },
  {
   "cell_type": "code",
   "execution_count": 87,
   "metadata": {},
   "outputs": [
    {
     "name": "stdout",
     "output_type": "stream",
     "text": [
      "Jumlah total wisatawan ke Jakarta tahun 2006-2012 sebanyak 11.44 juta orang.\n",
      "rata-rata pengunjung sebanyak 1.63 juta per tahun.\n",
      "Pengunjung terbanyak sebesar 2.13 juta\n",
      "Pengunjung terkecil sebesar 1.22 juta\n",
      "Standar deviasi 0.373\n"
     ]
    }
   ],
   "source": [
    "kunjungan = data_wisata[data_wisata['satuan'] == 'Juta Kunjungan']\n",
    "avg_kunjungan = sta.mean(kunjungan['nilai'])\n",
    "sum_kunjungan = sum(kunjungan['nilai'])\n",
    "print(\"Jumlah total wisatawan ke Jakarta tahun 2006-2012 sebanyak \" + str(round(sum_kunjungan,2)) +\" juta orang.\")\n",
    "print(\"rata-rata pengunjung sebanyak \" + str(round(avg_kunjungan,2)) + \" juta per tahun.\")\n",
    "print(\"Pengunjung terbanyak sebesar \" + str(max(kunjungan['nilai'])) + \" juta\")\n",
    "print(\"Pengunjung terkecil sebesar \" + str(min(kunjungan['nilai'])) + \" juta\")\n",
    "print(\"Standar deviasi \" + str(round(sta.stdev (kunjungan['nilai']),3)))"
   ]
  },
  {
   "cell_type": "markdown",
   "metadata": {},
   "source": [
    "b. Rata-rata penghuni hotel Bintang"
   ]
  },
  {
   "cell_type": "code",
   "execution_count": 38,
   "metadata": {},
   "outputs": [
    {
     "name": "stdout",
     "output_type": "stream",
     "text": [
      "rata-rata tamu hotel berbintang sebanyak 51.23 %\n"
     ]
    }
   ],
   "source": [
    "tamu_hotel = data_wisata[data_wisata['indikator_wisata'] == \"Tingkat Penghunian Kamar Hotel Bintang\"]\n",
    "avg_tamuhotel = sta.mean(tamu_hotel['nilai'])\n",
    "print(\"rata-rata tamu hotel berbintang sebanyak \" + str(round(avg_tamuhotel, 2)) + \" %\")"
   ]
  },
  {
   "cell_type": "markdown",
   "metadata": {},
   "source": [
    "c. Rata-rata penghuni hotel Non Bintang"
   ]
  },
  {
   "cell_type": "code",
   "execution_count": 44,
   "metadata": {},
   "outputs": [
    {
     "name": "stdout",
     "output_type": "stream",
     "text": [
      "rata-rata tamu hotel non-bintang sebanyak 58.37 %\n"
     ]
    }
   ],
   "source": [
    "tamu_hotel_nonbintang = data_wisata[data_wisata['indikator_wisata'] == \"Tingkat Penghunian Kamar Hotel Non-Bintang\"]\n",
    "avg_tamuhotel_non = sta.mean(tamu_hotel_nonbintang['nilai'])\n",
    "print(\"rata-rata tamu hotel non-bintang sebanyak \" + str(round(avg_tamuhotel_non, 2)) + \" %\")"
   ]
  },
  {
   "cell_type": "markdown",
   "metadata": {},
   "source": [
    "# 3. Visualisasi Sederhana"
   ]
  },
  {
   "cell_type": "code",
   "execution_count": 107,
   "metadata": {},
   "outputs": [
    {
     "data": {
      "text/plain": [
       "<matplotlib.axes._subplots.AxesSubplot at 0x1a722611b70>"
      ]
     },
     "execution_count": 107,
     "metadata": {},
     "output_type": "execute_result"
    },
    {
     "data": {
      "image/png": "[encoded data removed]",
      "text/plain": [
       "<Figure size 432x288 with 1 Axes>"
      ]
     },
     "metadata": {
      "needs_background": "light"
     },
     "output_type": "display_data"
    }
   ],
   "source": [
    "kunjungan.plot(kind='bar', title = 'Jumlah wisatawan (juta) per tahun', x='tahun', y='nilai')\n"
   ]
  },
  {
   "cell_type": "code",
   "execution_count": 109,
   "metadata": {},
   "outputs": [
    {
     "data": {
      "text/plain": [
       "<matplotlib.axes._subplots.AxesSubplot at 0x1a72248ff28>"
      ]
     },
     "execution_count": 109,
     "metadata": {},
     "output_type": "execute_result"
    },
    {
     "data": {
      "image/png": "[encoded data removed]",
      "text/plain": [
       "<Figure size 432x288 with 1 Axes>"
      ]
     },
     "metadata": {
      "needs_background": "light"
     },
     "output_type": "display_data"
    }
   ],
   "source": [
    "tamu_hotel.plot(kind='bar', title = 'Tingkat Penghunian Hotel Berbintang (%)', x='tahun', y='nilai')\n"
   ]
  },
  {
   "cell_type": "code",
   "execution_count": 111,
   "metadata": {},
   "outputs": [
    {
     "data": {
      "text/plain": [
       "<matplotlib.axes._subplots.AxesSubplot at 0x1a72261f8d0>"
      ]
     },
     "execution_count": 111,
     "metadata": {},
     "output_type": "execute_result"
    },
    {
     "data": {
      "image/png": "[encoded data removed]",
      "text/plain": [
       "<Figure size 432x288 with 1 Axes>"
      ]
     },
     "metadata": {
      "needs_background": "light"
     },
     "output_type": "display_data"
    }
   ],
   "source": [
    "tamu_hotel_nonbintang.plot(kind='bar', title = 'Tingkat Penghunian Hotel NON Berbintang (%)', x='tahun', y='nilai')\n"
   ]
  },
  {
   "cell_type": "markdown",
   "metadata": {},
   "source": [
    "## 4. Deskripsi Data"
   ]
  },
  {
   "cell_type": "markdown",
   "metadata": {},
   "source": [
    "Data pariwisata DKI Jakarta dari situs data.go.id menunjukkan jumlah wisatawan yang datang dan tingkat okupansi hotel berbintang dan non bintang. \n",
    "\n",
    "Rata rata wisatawan pertahun adalah <b>1.63 juta</b> pertahun <br>\n",
    "Jumlah wisatawan terbanyak sebesar <b>2.13 juta</b> pada tahun <b>2012</b> <br>\n",
    "Jumlah wisatawan paling sedikit sebesar <b>1.22 juta</b> pada tahun <b>2006 dan 2007</b> <br>\n",
    "Tingkat okupansi hotel bintang rata-rata yaitu <strong>51.23%</strong> <br>\n",
    "Tingkat okupansi hotel non bintang rata-rata yaitu <strong>58.37%</strong> <br>"
   ]
  },
  {
   "cell_type": "code",
   "execution_count": null,
   "metadata": {},
   "outputs": [],
   "source": []
  }
 ],
 "metadata": {
  "kernelspec": {
   "display_name": "Python 3",
   "language": "python",
   "name": "python3"
  },
  "language_info": {
   "codemirror_mode": {
    "name": "ipython",
    "version": 3
   },
   "file_extension": ".py",
   "mimetype": "text/x-python",
   "name": "python",
   "nbconvert_exporter": "python",
   "pygments_lexer": "ipython3",
   "version": "3.7.0"
  }
 },
 "nbformat": 4,
 "nbformat_minor": 2
}
