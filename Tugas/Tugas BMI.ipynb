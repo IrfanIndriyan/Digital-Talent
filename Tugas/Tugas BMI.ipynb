{
 "cells": [
  {
   "cell_type": "markdown",
   "metadata": {},
   "source": [
    "# Tugas BMI"
   ]
  },
  {
   "cell_type": "markdown",
   "metadata": {},
   "source": [
    "Oleh: Muhammad Irfan Indriyan\n",
    "(Big Data Kelas B)"
   ]
  },
  {
   "cell_type": "code",
   "execution_count": 3,
   "metadata": {},
   "outputs": [
    {
     "name": "stdout",
     "output_type": "stream",
     "text": [
      "Kategori BMI Anda: \n",
      "Normal (healthy weight)\n",
      "Program selesai\n"
     ]
    }
   ],
   "source": [
    "#Input variabel berat (weight) dan tinggi (height)\n",
    "weight = 67\n",
    "height = 165\n",
    "\n",
    "#Formula menghitung BMI\n",
    "BMI = weight / ((height/100) ** 2)\n",
    "\n",
    "#Kategorisasi BMI\n",
    "print(\"Kategori BMI Anda: \")\n",
    "\n",
    "#Jika BMI < 15 maka \"Very severely underweight\"\n",
    "if BMI < 15:\n",
    "    print(\"Very severely underweight\")\n",
    "elif BMI >= 15 and BMI < 16:\n",
    "    print(\"Severely underweight\")\n",
    "elif BMI >= 16 and BMI < 18.5:\n",
    "    print(\"Underweight\")\n",
    "elif BMI >= 18.5 and BMI < 25:\n",
    "    print(\"Normal (healthy weight)\")\n",
    "elif BMI >= 25 and BMI < 30:\n",
    "    print(\"Overweight\")\n",
    "elif BMI >= 30 and BMI < 35:\n",
    "    print(\"Moderately obese\")\n",
    "elif BMI >= 35 and BMI < 40:\n",
    "    print(\"Severely obese\")\n",
    "else:\n",
    "    print(\"Very severely obese\")\n",
    "\n",
    "print(\"Program selesai\")\n",
    "    "
   ]
  },
  {
   "cell_type": "code",
   "execution_count": null,
   "metadata": {},
   "outputs": [],
   "source": []
  }
 ],
 "metadata": {
  "kernelspec": {
   "display_name": "Python 3",
   "language": "python",
   "name": "python3"
  },
  "language_info": {
   "codemirror_mode": {
    "name": "ipython",
    "version": 3
   },
   "file_extension": ".py",
   "mimetype": "text/x-python",
   "name": "python",
   "nbconvert_exporter": "python",
   "pygments_lexer": "ipython3",
   "version": "3.7.0"
  }
 },
 "nbformat": 4,
 "nbformat_minor": 2
}
