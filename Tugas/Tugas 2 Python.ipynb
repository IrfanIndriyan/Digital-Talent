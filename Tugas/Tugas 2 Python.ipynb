{
 "cells": [
  {
   "cell_type": "code",
   "execution_count": 2,
   "metadata": {},
   "outputs": [
    {
     "name": "stdout",
     "output_type": "stream",
     "text": [
      "[62, 27, 39, 42, 31, 83, 40, 33, 36, 97, 31, 42, 69, 6, 70, 90, 78, 12, 59, 91, 2, 92, 72, 15, 81, 49, 41, 48, 69, 51, 32, 12, 76, 23, 48, 52, 33, 56, 14, 60, 74, 18, 77, 54, 81, 35, 57, 87, 39, 7, 66, 41, 23, 18, 32, 13, 44, 7, 9, 29, 70, 27, 53, 96, 82, 73, 76, 42, 21, 22, 66, 18, 56, 11, 54, 93, 28, 20, 92, 61, 73, 56, 80, 76, 98, 71, 74, 34, 82, 65, 73, 92, 23, 51, 83, 88, 48, 20, 82, 65, 73, 11, 84, 1, 74, 67, 66, 15, 97, 3, 54, 78, 49, 16, 72, 89, 80, 58, 31, 66, 51, 48, 63, 1, 70, 31, 85, 35, 38, 99, 85, 21, 89, 5, 74, 42, 44, 70, 21, 10, 40, 36, 9, 88, 14, 92, 25, 16, 61, 2, 25, 13, 53, 25, 35, 55, 66, 18, 44, 33, 71, 84, 66, 53, 57, 95, 2, 63, 28, 84, 92, 98, 93, 1, 78, 54, 10, 31, 51, 80, 21, 73, 62, 61, 59, 42, 81, 4, 11, 72, 79, 73, 89, 3, 17, 69, 41, 63, 15, 13, 83, 27, 15, 20, 91, 58, 17, 26, 60, 47, 53, 10, 15, 36, 34, 70, 40, 11, 58, 50, 93, 9, 10, 36, 45, 98, 24, 69, 35, 65, 40, 66, 58, 12, 72, 68, 24, 60, 25, 89, 98, 69, 51, 63, 77, 39, 86, 91, 47, 27]\n"
     ]
    }
   ],
   "source": [
    "import random\n",
    "\n",
    "# GENERATE RANDOM\n",
    "nilaiTugas = []\n",
    "for i in range(250):\n",
    "    nilaiTugas.append(random.randrange(1,100,1))\n",
    "\n",
    "print(nilaiTugas)\n",
    "\n",
    "# TAMPILKAN:\n",
    "# ganjil"
   ]
  },
  {
   "cell_type": "code",
   "execution_count": 3,
   "metadata": {},
   "outputs": [
    {
     "name": "stdout",
     "output_type": "stream",
     "text": [
      "27\n",
      "39\n",
      "31\n",
      "83\n",
      "33\n",
      "97\n",
      "31\n",
      "69\n",
      "59\n",
      "91\n",
      "15\n",
      "81\n",
      "49\n",
      "41\n",
      "69\n",
      "51\n",
      "23\n",
      "33\n",
      "77\n",
      "81\n",
      "35\n",
      "57\n",
      "87\n",
      "39\n",
      "7\n",
      "41\n",
      "23\n",
      "13\n",
      "7\n",
      "9\n",
      "29\n",
      "27\n",
      "53\n",
      "73\n",
      "21\n",
      "11\n",
      "93\n",
      "61\n",
      "73\n",
      "71\n",
      "65\n",
      "73\n",
      "23\n",
      "51\n",
      "83\n",
      "65\n",
      "73\n",
      "11\n",
      "1\n",
      "67\n",
      "15\n",
      "97\n",
      "3\n",
      "49\n",
      "89\n",
      "31\n",
      "51\n",
      "63\n",
      "1\n",
      "31\n",
      "85\n",
      "35\n",
      "99\n",
      "85\n",
      "21\n",
      "89\n",
      "5\n",
      "21\n",
      "9\n",
      "25\n",
      "61\n",
      "25\n",
      "13\n",
      "53\n",
      "25\n",
      "35\n",
      "55\n",
      "33\n",
      "71\n",
      "53\n",
      "57\n",
      "95\n",
      "63\n",
      "93\n",
      "1\n",
      "31\n",
      "51\n",
      "21\n",
      "73\n",
      "61\n",
      "59\n",
      "81\n",
      "11\n",
      "79\n",
      "73\n",
      "89\n",
      "3\n",
      "17\n",
      "69\n",
      "41\n",
      "63\n",
      "15\n",
      "13\n",
      "83\n",
      "27\n",
      "15\n",
      "91\n",
      "17\n",
      "47\n",
      "53\n",
      "15\n",
      "11\n",
      "93\n",
      "9\n",
      "45\n",
      "69\n",
      "35\n",
      "65\n",
      "25\n",
      "89\n",
      "69\n",
      "51\n",
      "63\n",
      "77\n",
      "39\n",
      "91\n",
      "47\n",
      "27\n"
     ]
    }
   ],
   "source": [
    "#Nilai Ganjil\n",
    "for n in nilaiTugas:\n",
    "    if n%2 != 0:\n",
    "        print(n)"
   ]
  },
  {
   "cell_type": "code",
   "execution_count": 34,
   "metadata": {},
   "outputs": [
    {
     "name": "stdout",
     "output_type": "stream",
     "text": [
      "83\n",
      "97\n",
      "90\n",
      "78\n",
      "91\n",
      "92\n",
      "72\n",
      "81\n",
      "76\n",
      "74\n",
      "77\n",
      "81\n",
      "87\n",
      "96\n",
      "82\n",
      "73\n",
      "76\n",
      "93\n",
      "92\n",
      "73\n",
      "80\n",
      "76\n",
      "98\n",
      "71\n",
      "74\n",
      "82\n",
      "73\n",
      "92\n",
      "83\n",
      "88\n",
      "82\n",
      "73\n",
      "84\n",
      "74\n",
      "97\n",
      "78\n",
      "72\n",
      "89\n",
      "80\n",
      "85\n",
      "99\n",
      "85\n",
      "89\n",
      "74\n",
      "88\n",
      "92\n",
      "71\n",
      "84\n",
      "95\n",
      "84\n",
      "92\n",
      "98\n",
      "93\n",
      "78\n",
      "80\n",
      "73\n",
      "81\n",
      "72\n",
      "79\n",
      "73\n",
      "89\n",
      "83\n",
      "91\n",
      "93\n",
      "98\n",
      "72\n",
      "89\n",
      "98\n",
      "77\n",
      "86\n",
      "91\n",
      "Jumlah angka dengan n>70 adalah:  71\n"
     ]
    }
   ],
   "source": [
    "#Nilai n > 70\n",
    "jumlah = 0\n",
    "for n in nilaiTugas:\n",
    "    if n > 70:\n",
    "        jumlah = jumlah + 1\n",
    "        print(n)\n",
    "\n",
    "print(\"Jumlah angka dengan n>70 adalah: \", str(jumlah))"
   ]
  },
  {
   "cell_type": "code",
   "execution_count": 4,
   "metadata": {},
   "outputs": [
    {
     "name": "stdout",
     "output_type": "stream",
     "text": [
      "Standar Deviasi : 27.61116759573923\n"
     ]
    }
   ],
   "source": [
    "#Standar Deviasi\n",
    "\n",
    "total = 0\n",
    "for n in nilaiTugas:\n",
    "    total = total + n\n",
    "\n",
    "Rata2 = total / 250\n",
    "\n",
    "sigma = 0\n",
    "for n in nilaiTugas:\n",
    "    sigma = sigma + (n - Rata2) ** 2\n",
    "    \n",
    "std_kuadrat = sigma / 250\n",
    "std = std_kuadrat ** 0.5\n",
    "print(\"Standar Deviasi :\", str(std))"
   ]
  },
  {
   "cell_type": "code",
   "execution_count": 5,
   "metadata": {},
   "outputs": [
    {
     "name": "stdout",
     "output_type": "stream",
     "text": [
      "99\n"
     ]
    }
   ],
   "source": [
    "#maksimum\n",
    "maks = 0\n",
    "for n in nilaiTugas:\n",
    "    for m in nilaiTugas:\n",
    "        if m > n:\n",
    "           n = m\n",
    "print(n)\n",
    "    \n",
    "   \n",
    "    "
   ]
  },
  {
   "cell_type": "code",
   "execution_count": 6,
   "metadata": {},
   "outputs": [
    {
     "name": "stdout",
     "output_type": "stream",
     "text": [
      "1\n"
     ]
    }
   ],
   "source": [
    "#minimum\n",
    "min = 0\n",
    "for n in nilaiTugas:\n",
    "    for m in nilaiTugas:\n",
    "        if m < n:\n",
    "            n = m\n",
    "print(n)"
   ]
  },
  {
   "cell_type": "code",
   "execution_count": 33,
   "metadata": {},
   "outputs": [
    {
     "name": "stdout",
     "output_type": "stream",
     "text": [
      "{62: 2, 27: 4, 39: 3, 42: 5, 31: 5, 83: 3, 40: 4, 33: 3, 36: 4, 97: 2, 69: 5, 6: 1, 70: 5, 90: 1, 78: 3, 12: 3, 59: 2, 91: 3, 2: 3, 92: 5, 72: 4, 15: 5, 81: 3, 49: 2, 41: 3, 48: 4, 51: 5, 32: 2, 76: 3, 23: 3, 52: 1, 56: 3, 14: 2, 60: 3, 74: 4, 18: 4, 77: 2, 54: 4, 35: 4, 57: 2, 87: 1, 7: 2, 66: 7, 13: 3, 44: 3, 9: 3, 29: 1, 53: 4, 96: 1, 82: 3, 73: 6, 21: 4, 22: 1, 11: 4, 93: 3, 28: 2, 20: 3, 61: 3, 80: 3, 98: 4, 71: 2, 34: 2, 65: 3, 88: 2, 84: 3, 1: 3, 67: 1, 3: 2, 16: 2, 89: 4, 58: 4, 63: 4, 85: 2, 38: 1, 99: 1, 5: 1, 10: 4, 25: 4, 55: 1, 95: 1, 4: 1, 79: 1, 17: 2, 26: 1, 47: 2, 50: 1, 45: 1, 24: 2, 68: 1, 86: 1}\n",
      "nilai modusnya adalah: 66 sebanyak 7 kali\n"
     ]
    }
   ],
   "source": [
    "#modus\n",
    "i = 0\n",
    "j = 0\n",
    "\n",
    "counts = dict()\n",
    "\n",
    "for n in nilaiTugas:\n",
    "    if n in counts:\n",
    "        counts[n] += 1\n",
    "    else:\n",
    "        counts[n] = 1\n",
    "        \n",
    "print(counts)\n",
    "\n",
    "modus = max(counts, key=lambda i: counts[i])\n",
    "frekuensi = max(counts.values())\n",
    "\n",
    "print(\"nilai modusnya adalah:\", str(modus), \"sebanyak\", str(frekuensi), \"kali\")\n"
   ]
  },
  {
   "cell_type": "code",
   "execution_count": null,
   "metadata": {},
   "outputs": [],
   "source": []
  }
 ],
 "metadata": {
  "kernelspec": {
   "display_name": "Python 3",
   "language": "python",
   "name": "python3"
  },
  "language_info": {
   "codemirror_mode": {
    "name": "ipython",
    "version": 3
   },
   "file_extension": ".py",
   "mimetype": "text/x-python",
   "name": "python",
   "nbconvert_exporter": "python",
   "pygments_lexer": "ipython3",
   "version": "3.7.0"
  }
 },
 "nbformat": 4,
 "nbformat_minor": 2
}
